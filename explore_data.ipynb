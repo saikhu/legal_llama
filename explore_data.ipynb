{
 "cells": [
  {
   "cell_type": "code",
   "execution_count": 1,
   "metadata": {},
   "outputs": [],
   "source": [
    "import pandas as pd"
   ]
  },
  {
   "cell_type": "code",
   "execution_count": 2,
   "metadata": {},
   "outputs": [],
   "source": [
    "citation_file_path = \"data/citations/citations-001.csv\"\n",
    "df = pd.read_csv(citation_file_path)"
   ]
  },
  {
   "cell_type": "code",
   "execution_count": 3,
   "metadata": {},
   "outputs": [
    {
     "name": "stdout",
     "output_type": "stream",
     "text": [
      "   id  citation type  year  page_no  \\\n",
      "0  21   CLC 702  CLC   NaN      702   \n",
      "1  22  CLC 1741  CLC   NaN     1741   \n",
      "2  23  CLC 1754  CLC   NaN     1754   \n",
      "3  24  CLC 1767  CLC   NaN     1767   \n",
      "4  25  CLC 1771  CLC   NaN     1771   \n",
      "\n",
      "                                               title  \\\n",
      "0  Messrs CLASSIC MARBLE VS KARACHI ELECTRIC SUPP...   \n",
      "1  YOUSUF ALI VS ALI GOHAR <br>\\n                ...   \n",
      "2  WAZIR MUHAMMAD ALI VS MUHAMMAD <br>\\n         ...   \n",
      "3  SHAKOOR ALI VS ZEENAT SHAH <br>\\n             ...   \n",
      "4  Syed SHUJHAT HUSSAIN KAZMI VS Mst. NAZISH KAZM...   \n",
      "\n",
      "                                    case_description  status  \\\n",
      "0  <p><span style=\"letter-spacing:.1pt\"></span></...       1   \n",
      "1  <p><b></b></p> <p><b>2007 C L C 1741</b></p> <...       1   \n",
      "2  <p><b></b></p> <p><b>2007 C L C 1754</b></p> <...       1   \n",
      "3  <p></p> <p><b>2007 C L C 1767</b></p> <p><b></...       1   \n",
      "4  <p><b></b></p> <p><b>2007 C L C 1771</b></p> <...       1   \n",
      "\n",
      "                         source           created_at           updated_at  \n",
      "0  final_output_batch_1_to_1000  2024-08-16 13:50:00  2024-08-16 13:50:00  \n",
      "1  final_output_batch_1_to_1000  2024-08-16 13:50:00  2024-08-16 13:50:00  \n",
      "2  final_output_batch_1_to_1000  2024-08-16 13:50:00  2024-08-16 13:50:00  \n",
      "3  final_output_batch_1_to_1000  2024-08-16 13:50:00  2024-08-16 13:50:00  \n",
      "4  final_output_batch_1_to_1000  2024-08-16 13:50:00  2024-08-16 13:50:00  \n"
     ]
    }
   ],
   "source": [
    "print(df.head())"
   ]
  },
  {
   "cell_type": "code",
   "execution_count": 4,
   "metadata": {},
   "outputs": [
    {
     "data": {
      "text/plain": [
       "0    <p><span style=\"letter-spacing:.1pt\"></span></...\n",
       "1    <p><b></b></p> <p><b>2007 C L C 1741</b></p> <...\n",
       "2    <p><b></b></p> <p><b>2007 C L C 1754</b></p> <...\n",
       "3    <p></p> <p><b>2007 C L C 1767</b></p> <p><b></...\n",
       "4    <p><b></b></p> <p><b>2007 C L C 1771</b></p> <...\n",
       "Name: case_description, dtype: object"
      ]
     },
     "execution_count": 4,
     "metadata": {},
     "output_type": "execute_result"
    }
   ],
   "source": [
    "df.case_description.head()"
   ]
  },
  {
   "cell_type": "code",
   "execution_count": 5,
   "metadata": {},
   "outputs": [
    {
     "name": "stdout",
     "output_type": "stream",
     "text": [
      "                  id           year       page_no         status\n",
      "count  189039.000000  189031.000000  1.890390e+05  189039.000000\n",
      "mean    97488.536239    1996.290947  1.039793e+03       0.990293\n",
      "std     56676.618978      16.230152  4.621392e+04       0.098045\n",
      "min        21.000000    1947.000000  0.000000e+00       0.000000\n",
      "25%     47280.500000    1986.000000  2.990000e+02       1.000000\n",
      "50%     99542.000000    1997.000000  7.460000e+02       1.000000\n",
      "75%    146801.500000    2009.000000  1.404000e+03       1.000000\n",
      "max    194061.000000    2024.000000  2.009124e+07       1.000000\n"
     ]
    }
   ],
   "source": [
    "print(df.describe())"
   ]
  },
  {
   "cell_type": "code",
   "execution_count": 6,
   "metadata": {},
   "outputs": [],
   "source": [
    "from bs4 import BeautifulSoup\n",
    "\n",
    "def remove_html_tags(text):\n",
    "    if pd.isna(text):\n",
    "        return ''\n",
    "    return BeautifulSoup(text, 'html.parser').get_text(separator=' ')\n",
    "\n",
    "\n"
   ]
  },
  {
   "cell_type": "code",
   "execution_count": 7,
   "metadata": {},
   "outputs": [],
   "source": [
    "# Apply the function to 'title' and 'case_description'\n",
    "df['clean_title'] = df['title'].apply(remove_html_tags)"
   ]
  },
  {
   "cell_type": "code",
   "execution_count": 8,
   "metadata": {},
   "outputs": [],
   "source": [
    "df['clean_case_description'] = df['case_description'].apply(remove_html_tags)"
   ]
  },
  {
   "cell_type": "code",
   "execution_count": 10,
   "metadata": {},
   "outputs": [
    {
     "name": "stdout",
     "output_type": "stream",
     "text": [
      "                                         clean_title  \\\n",
      "0  Messrs CLASSIC MARBLE VS KARACHI ELECTRIC SUPP...   \n",
      "1  YOUSUF ALI VS ALI GOHAR  \\n Honorable Justice ...   \n",
      "2  WAZIR MUHAMMAD ALI VS MUHAMMAD  \\n Honorable J...   \n",
      "3  SHAKOOR ALI VS ZEENAT SHAH  \\n Honorable Justi...   \n",
      "4  Syed SHUJHAT HUSSAIN KAZMI VS Mst. NAZISH KAZM...   \n",
      "\n",
      "                              clean_case_description  \n",
      "0    2006 C L C 702     [Karachi]     Before Muha...  \n",
      "1    2007 C L C 1741     [Northern Areas Chief Co...  \n",
      "2    2007 C L C 1754     [Northern Areas Chief Co...  \n",
      "3    2007 C L C 1767     [Northern Areas Chief Co...  \n",
      "4    2007 C L C 1771     [Supreme Court (AJ&K)]  ...  \n"
     ]
    }
   ],
   "source": [
    "# Display the first few rows of the cleaned columns\n",
    "clean_title = df[['clean_title', 'clean_case_description']].head()\n",
    "print(clean_title)\n",
    "\n"
   ]
  },
  {
   "cell_type": "code",
   "execution_count": null,
   "metadata": {},
   "outputs": [],
   "source": []
  }
 ],
 "metadata": {
  "kernelspec": {
   "display_name": "Python 3",
   "language": "python",
   "name": "python3"
  },
  "language_info": {
   "codemirror_mode": {
    "name": "ipython",
    "version": 3
   },
   "file_extension": ".py",
   "mimetype": "text/x-python",
   "name": "python",
   "nbconvert_exporter": "python",
   "pygments_lexer": "ipython3",
   "version": "3.12.5"
  }
 },
 "nbformat": 4,
 "nbformat_minor": 2
}
